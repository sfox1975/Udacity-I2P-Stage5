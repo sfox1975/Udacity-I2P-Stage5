{
 "cells": [
  {
   "cell_type": "markdown",
   "metadata": {},
   "source": [
    "A Data Analysis on Titanic Shipwreck Passenger Data\n",
    "\n",
    "By Stephen Fox\n",
    "May 2016\n",
    "\n",
    "(completed as part of the Udacity Introduction to Programming Nanodegree)"
   ]
  },
  {
   "cell_type": "markdown",
   "metadata": {},
   "source": [
    "Introduction:\n",
    "\n",
    "I have chosen to complete an analysis on the Titanic shipwreck passenger data. The data provides a variety of demographic data on 891 of the passengers, many of whom did not survive the disaster.  \n",
    "\n",
    "The particular question I would like to explore is whether certain factors, namely age, gender and socioeconomic class, were predictive of whether someone survived the disaster or did not. I will use the cabin class purchased (1,2, or 3) as an indicator of upper, middle and lower classes, respectively. This is the approach endorsed by the compilers of the data (https://www.kaggle.com/c/titanic/data)."
   ]
  },
  {
   "cell_type": "code",
   "execution_count": 284,
   "metadata": {
    "collapsed": true
   },
   "outputs": [],
   "source": [
    "import pandas as pd\n",
    "import numpy as np"
   ]
  },
  {
   "cell_type": "code",
   "execution_count": 285,
   "metadata": {
    "collapsed": true
   },
   "outputs": [],
   "source": [
    "# Import the raw data\n",
    "\n",
    "titanic_data = pd.read_csv('titanic_data.csv')"
   ]
  },
  {
   "cell_type": "markdown",
   "metadata": {},
   "source": [
    "I would like to begin by making sure the dataset is clean. I will achieve this by doing sanity checks on various fields:"
   ]
  },
  {
   "cell_type": "code",
   "execution_count": 286,
   "metadata": {
    "collapsed": false
   },
   "outputs": [
    {
     "name": "stdout",
     "output_type": "stream",
     "text": [
      "passenger count: 891\n",
      "cabin class count: 3\n",
      "gender count: 2\n",
      "oldest passenger: 80.0\n",
      "youngest passenger: 0.42\n"
     ]
    }
   ],
   "source": [
    "# Check that the number of unique names matches the expected count (891, per the project specifications)\n",
    "\n",
    "print \"passenger count: \"  + str(len(titanic_data['Name'].unique()))\n",
    "\n",
    "# Confirm that there are only three cabin classes\n",
    "\n",
    "print \"cabin class count: \" + str(len(titanic_data['Pclass'].unique()))\n",
    "\n",
    "# Confirm that there are only two genders in the data\n",
    "\n",
    "print \"gender count: \" + str(len(titanic_data['Sex'].unique()))\n",
    "\n",
    "# Sanity check that the age data looks reasonable (no unreasonably large or small ages, for example)\n",
    "\n",
    "print \"oldest passenger: \" + str(titanic_data['Age'].max())\n",
    "print \"youngest passenger: \" + str(titanic_data['Age'].min())"
   ]
  },
  {
   "cell_type": "markdown",
   "metadata": {},
   "source": [
    "There are now obvious issues with the data. The passenger count, gender options and cabin class number all match expectations. The age range looks reasonable, ranging from a few months to 80 years."
   ]
  },
  {
   "cell_type": "markdown",
   "metadata": {},
   "source": [
    "I would now like to get a sense of how my data splits along the variables of interest, namely age, gender, class and whether or not a passenger survived. I will do this by getting basic statistical data for each variable."
   ]
  },
  {
   "cell_type": "code",
   "execution_count": 287,
   "metadata": {
    "collapsed": false
   },
   "outputs": [
    {
     "name": "stdout",
     "output_type": "stream",
     "text": [
      "Age statistics:\n",
      "count    714.000000\n",
      "mean      29.699118\n",
      "std       14.526497\n",
      "min        0.420000\n",
      "25%       20.125000\n",
      "50%       28.000000\n",
      "75%       38.000000\n",
      "max       80.000000\n",
      "Name: Age, dtype: float64\n",
      "\n",
      "\n",
      "Gender statistics:\n",
      "count      891\n",
      "unique       2\n",
      "top       male\n",
      "freq       577\n",
      "Name: Sex, dtype: object\n",
      "\n",
      "\n",
      "Cabin statistics:\n",
      "count    891.000000\n",
      "mean       2.308642\n",
      "std        0.836071\n",
      "min        1.000000\n",
      "25%        2.000000\n",
      "50%        3.000000\n",
      "75%        3.000000\n",
      "max        3.000000\n",
      "Name: Pclass, dtype: float64\n",
      "\n",
      "\n",
      "Survival statistics:\n",
      "count    891.000000\n",
      "mean       0.383838\n",
      "std        0.486592\n",
      "min        0.000000\n",
      "25%        0.000000\n",
      "50%        0.000000\n",
      "75%        1.000000\n",
      "max        1.000000\n",
      "Name: Survived, dtype: float64\n"
     ]
    }
   ],
   "source": [
    "print \"Age statistics:\"\n",
    "print titanic_data['Age'].describe()\n",
    "print \"\\n\"\n",
    "\n",
    "print \"Gender statistics:\"\n",
    "print titanic_data['Sex'].describe()\n",
    "print \"\\n\"\n",
    "\n",
    "print \"Cabin statistics:\"\n",
    "print titanic_data['Pclass'].describe()\n",
    "print \"\\n\"\n",
    "\n",
    "print \"Survival statistics:\"\n",
    "print titanic_data['Survived'].describe()\n"
   ]
  },
  {
   "cell_type": "markdown",
   "metadata": {},
   "source": [
    "The first thing I notice is that the age data is incomplete. There are only 714 ages recorded, whereas there are 819 passengers, so the age data is missing for 105 of the passengers. Looking at the gender data, I observe that a majority of the passengers were male (577 out of 891, or 64%). I also observe that a majority of the passengers were lower class (3rd class passengers), given that the median for cabin statistics is '3'. Finally, I observe the grim statistic that only about 38% of the 891 passengers being considered here survived the disaster. \n",
    "\n",
    "I have found these summary descriptions very useful for building intuition about the data. I am now ready to probe further into the data."
   ]
  },
  {
   "cell_type": "markdown",
   "metadata": {},
   "source": [
    "I will begin by considering the relationship between gender and survival. "
   ]
  },
  {
   "cell_type": "code",
   "execution_count": 288,
   "metadata": {
    "collapsed": false
   },
   "outputs": [
    {
     "data": {
      "text/plain": [
       "Sex\n",
       "female    233\n",
       "male      109\n",
       "Name: Survived, dtype: int64"
      ]
     },
     "execution_count": 288,
     "metadata": {},
     "output_type": "execute_result"
    }
   ],
   "source": [
    "# Break the gender data down by survival\n",
    "\n",
    "titanic_data.groupby('Sex').sum()['Survived']"
   ]
  },
  {
   "cell_type": "markdown",
   "metadata": {},
   "source": [
    "Based on this grouping, I observe that more females survived than males. Given that we know that 64% of the total passengers were male, this observation suggests there might be a relationship between gender and survival, with females having a higher likelihood of surviving. I will now quantify the relative survival rate by gender."
   ]
  },
  {
   "cell_type": "code",
   "execution_count": 289,
   "metadata": {
    "collapsed": false
   },
   "outputs": [
    {
     "name": "stdout",
     "output_type": "stream",
     "text": [
      "Survival by Gender:\n",
      "\n",
      "\n",
      "Total female passengers: 314\n",
      "Surviving female passengers: 233\n",
      "Female Survival Rate (%): 74\n",
      "\n",
      "\n",
      "Total male passengers: 577\n",
      "Surviving male passengers: 109\n",
      "Male Survival Rate (%): 18\n"
     ]
    }
   ],
   "source": [
    "# Compute relative survival rates, by gender\n",
    "\n",
    "total_females = titanic_data.groupby('Sex').count()['PassengerId']['female']\n",
    "survived_females = titanic_data.groupby('Sex').sum()['Survived']['female']\n",
    "female_survival = survived_females * 100 / total_females\n",
    "\n",
    "total_males = titanic_data.groupby('Sex').count()['PassengerId']['male']\n",
    "survived_males = titanic_data.groupby('Sex').sum()['Survived']['male']\n",
    "male_survival = survived_males * 100 / total_males\n",
    "\n",
    "print \"Survival by Gender:\"\n",
    "print \"\\n\"\n",
    "print \"Total female passengers: \" + str(total_females)\n",
    "print \"Surviving female passengers: \" + str(survived_females)\n",
    "print \"Female Survival Rate (%): \" + str(female_survival)\n",
    "\n",
    "print \"\\n\"\n",
    "print \"Total male passengers: \" + str(total_males)\n",
    "print \"Surviving male passengers: \" + str(survived_males)\n",
    "print \"Male Survival Rate (%): \" + str(male_survival)"
   ]
  },
  {
   "cell_type": "markdown",
   "metadata": {},
   "source": [
    "Therefore, survival appears to be quite strongly related to gender, with 74% of the female passengers surviving whereas only 18% of the males survived.\n",
    "\n",
    "At this point, I would like to calculate a correlation coefficient between gender and survival. In order to do so, I need to convert the gender data from a string to a number. I will create a function, called numerical_gender, that returns a 1 for a female and a 0 for a male."
   ]
  },
  {
   "cell_type": "code",
   "execution_count": 290,
   "metadata": {
    "collapsed": true
   },
   "outputs": [],
   "source": [
    "# Function returns a 1 if the data point is female and a 0 otherwise\n",
    "\n",
    "def numerical_gender(df):\n",
    "    \n",
    "    if df == 'female':\n",
    "        new_df = 1\n",
    "    else:\n",
    "        new_df = 0\n",
    "        \n",
    "    return new_df"
   ]
  },
  {
   "cell_type": "code",
   "execution_count": 291,
   "metadata": {
    "collapsed": false
   },
   "outputs": [
    {
     "data": {
      "text/plain": [
       "array([[ 1.        ,  0.54335138],\n",
       "       [ 0.54335138,  1.        ]])"
      ]
     },
     "execution_count": 291,
     "metadata": {},
     "output_type": "execute_result"
    }
   ],
   "source": [
    "# Apply the function to the titanic_data and calculate a correlation coefficient between gender and survival\n",
    "\n",
    "titanic_data['Gender'] = titanic_data['Sex'].apply(numerical_gender)\n",
    "\n",
    "np.corrcoef(titanic_data['Survived'],titanic_data['Gender'])"
   ]
  },
  {
   "cell_type": "markdown",
   "metadata": {},
   "source": [
    "Given a 0.54 correlation coefficient, there is a moderate, positive relationship between gender and survival, with females having a greater chance of survival than males (since a 'Gender' value of 1 is used for females)."
   ]
  },
  {
   "cell_type": "markdown",
   "metadata": {},
   "source": [
    "Now lets consider the relationship between class and survival."
   ]
  },
  {
   "cell_type": "code",
   "execution_count": 292,
   "metadata": {
    "collapsed": false
   },
   "outputs": [
    {
     "data": {
      "text/plain": [
       "Pclass\n",
       "1    136\n",
       "2     87\n",
       "3    119\n",
       "Name: Survived, dtype: int64"
      ]
     },
     "execution_count": 292,
     "metadata": {},
     "output_type": "execute_result"
    }
   ],
   "source": [
    "# Break the class data down by survival\n",
    "\n",
    "titanic_data.groupby('Pclass').sum()['Survived']"
   ]
  },
  {
   "cell_type": "markdown",
   "metadata": {},
   "source": [
    "Based on this grouping, I observe that more more 1st class passengers survived than either 2nd or 3rd class passengers. Given that we know that the median cabin class was 3rd class (i.e. >50% of the passengers were in 3rd class), this observation suggests there might be an inverse relationship between class and survival, with 1st class conferring a greater chance of survival. Let us quantify the relative survival rate by cabin class."
   ]
  },
  {
   "cell_type": "markdown",
   "metadata": {},
   "source": [
    "To do so, I will convert the cabin class data into a string (it is currently the integers 1,2 and 3). I will do so by applying a function, called class_to_string:"
   ]
  },
  {
   "cell_type": "code",
   "execution_count": 293,
   "metadata": {
    "collapsed": true
   },
   "outputs": [],
   "source": [
    "# Function converts the cabin classes from 1,2, and 3 to 1st, 2nd and 3rd\n",
    "\n",
    "def class_to_string(df):\n",
    "    \n",
    "    if df == 1:\n",
    "        new_df = '1st'\n",
    "    elif df == 2:\n",
    "        new_df = '2nd'\n",
    "    else:\n",
    "        new_df = '3rd'\n",
    "    return new_df"
   ]
  },
  {
   "cell_type": "code",
   "execution_count": 294,
   "metadata": {
    "collapsed": true
   },
   "outputs": [],
   "source": [
    "# Apply the function to the titanic_data, creating a 'Class' column:\n",
    "\n",
    "titanic_data['Class'] = titanic_data['Pclass'].apply(class_to_string)"
   ]
  },
  {
   "cell_type": "code",
   "execution_count": 295,
   "metadata": {
    "collapsed": false
   },
   "outputs": [
    {
     "name": "stdout",
     "output_type": "stream",
     "text": [
      "Survival by Class:\n",
      "\n",
      "\n",
      "Total 1st class passengers: 216\n",
      "Surviving 1st class passengers: 136\n",
      "1st class Survival Rate (%): 62\n",
      "\n",
      "\n",
      "Total 2nd class passengers: 184\n",
      "Surviving 2nd class passengers: 87\n",
      "2nd class Survival Rate (%): 47\n",
      "\n",
      "\n",
      "Total 3rd class passengers: 491\n",
      "Surviving 3rd class passengers: 119\n",
      "3rd class Survival Rate (%): 24\n"
     ]
    }
   ],
   "source": [
    "# Compute relative survival rates, by class\n",
    "\n",
    "total_first = titanic_data.groupby('Class').count()['PassengerId']['1st']\n",
    "survived_first = titanic_data.groupby('Class').sum()['Survived']['1st']\n",
    "first_survival = survived_first * 100 / total_first\n",
    "\n",
    "total_second = titanic_data.groupby('Class').count()['PassengerId']['2nd']\n",
    "survived_second = titanic_data.groupby('Class').sum()['Survived']['2nd']\n",
    "second_survival = survived_second * 100 / total_second\n",
    "\n",
    "total_third = titanic_data.groupby('Class').count()['PassengerId']['3rd']\n",
    "survived_third = titanic_data.groupby('Class').sum()['Survived']['3rd']\n",
    "third_survival = survived_third * 100 / total_third\n",
    "\n",
    "\n",
    "print \"Survival by Class:\"\n",
    "print \"\\n\"\n",
    "print \"Total 1st class passengers: \" + str(total_first)\n",
    "print \"Surviving 1st class passengers: \" + str(survived_first)\n",
    "print \"1st class Survival Rate (%): \" + str(first_survival)\n",
    "\n",
    "print \"\\n\"\n",
    "print \"Total 2nd class passengers: \" + str(total_second)\n",
    "print \"Surviving 2nd class passengers: \" + str(survived_second)\n",
    "print \"2nd class Survival Rate (%): \" + str(second_survival)\n",
    "\n",
    "print \"\\n\"\n",
    "print \"Total 3rd class passengers: \" + str(total_third)\n",
    "print \"Surviving 3rd class passengers: \" + str(survived_third)\n",
    "print \"3rd class Survival Rate (%): \" + str(third_survival)"
   ]
  },
  {
   "cell_type": "markdown",
   "metadata": {},
   "source": [
    "Based on these results, there does appear to be an inverse correlation with class and survival, with the survival rate of a 1st class passenger (62%) nearly triple that of a 3rd class passenger (24%). The correlation coefficient between class and survival can be calculated to quantify this relationship:"
   ]
  },
  {
   "cell_type": "code",
   "execution_count": 296,
   "metadata": {
    "collapsed": false
   },
   "outputs": [
    {
     "data": {
      "text/plain": [
       "array([[ 1.        , -0.33848104],\n",
       "       [-0.33848104,  1.        ]])"
      ]
     },
     "execution_count": 296,
     "metadata": {},
     "output_type": "execute_result"
    }
   ],
   "source": [
    "np.corrcoef(titanic_data['Survived'],titanic_data['Pclass'])"
   ]
  },
  {
   "cell_type": "markdown",
   "metadata": {},
   "source": [
    "Given a -0.34 correlation coefficient, there is a moderate, negative relationship between class and survival, with upper class (1st class passengers) having a greater chance of survival than middle and lower class passengers."
   ]
  },
  {
   "cell_type": "markdown",
   "metadata": {},
   "source": [
    "As the 3rd variable pair considered, I would like to look at the relationship between age and survival. As with prior analyses, I will begin by looking at a grouping:"
   ]
  },
  {
   "cell_type": "code",
   "execution_count": 297,
   "metadata": {
    "collapsed": false
   },
   "outputs": [
    {
     "data": {
      "text/plain": [
       "Age\n",
       "0.42      1\n",
       "0.67      1\n",
       "0.75      2\n",
       "0.83      2\n",
       "0.92      1\n",
       "1.00      5\n",
       "2.00      3\n",
       "3.00      5\n",
       "4.00      7\n",
       "5.00      4\n",
       "6.00      2\n",
       "7.00      1\n",
       "8.00      2\n",
       "9.00      2\n",
       "10.00     0\n",
       "11.00     1\n",
       "12.00     1\n",
       "13.00     2\n",
       "14.00     3\n",
       "14.50     0\n",
       "15.00     4\n",
       "16.00     6\n",
       "17.00     6\n",
       "18.00     9\n",
       "19.00     9\n",
       "20.00     3\n",
       "20.50     0\n",
       "21.00     5\n",
       "22.00    11\n",
       "23.00     5\n",
       "         ..\n",
       "44.00     3\n",
       "45.00     5\n",
       "45.50     0\n",
       "46.00     0\n",
       "47.00     1\n",
       "48.00     6\n",
       "49.00     4\n",
       "50.00     5\n",
       "51.00     2\n",
       "52.00     3\n",
       "53.00     1\n",
       "54.00     3\n",
       "55.00     1\n",
       "55.50     0\n",
       "56.00     2\n",
       "57.00     0\n",
       "58.00     3\n",
       "59.00     0\n",
       "60.00     2\n",
       "61.00     0\n",
       "62.00     2\n",
       "63.00     2\n",
       "64.00     0\n",
       "65.00     0\n",
       "66.00     0\n",
       "70.00     0\n",
       "70.50     0\n",
       "71.00     0\n",
       "74.00     0\n",
       "80.00     1\n",
       "Name: Survived, dtype: int64"
      ]
     },
     "execution_count": 297,
     "metadata": {},
     "output_type": "execute_result"
    }
   ],
   "source": [
    "titanic_data.groupby('Age').sum()['Survived']"
   ]
  },
  {
   "cell_type": "markdown",
   "metadata": {},
   "source": [
    "There are too many age bands to draw any meaningful conclusions from the grouping. I will therefore group the data into the following (somewhat arbitrary) classifications, by applying the 'age_to_band' function specified hereafter:\n",
    "\n",
    "    Age 0 to 2:   Baby\n",
    "\n",
    "    Age 2 to 12:  Child\n",
    "\n",
    "    Age 12 to 18: Teen\n",
    "\n",
    "    Age 18 to 30: Young_Adult\n",
    "\n",
    "    Age 30 to 55: Middle_Aged\n",
    "\n",
    "    Age >55:      Elderly\n",
    "    \n",
    "As you may recall from the 'data wrangling' stage, I identified that age data was only provided for 714 of the 891 passengers under consideration here. For those passengers were the age is unknown, I will group them into an 'Age_Unknown' bracket and exclude them from the age / survival analysis."
   ]
  },
  {
   "cell_type": "code",
   "execution_count": 298,
   "metadata": {
    "collapsed": true
   },
   "outputs": [],
   "source": [
    "# Function classifies a passenger's numerical age into 1 of 7 mutually exclusive age bands\n",
    "\n",
    "def age_to_band(df):\n",
    "    \n",
    "    if df <= 2:\n",
    "        new_df = 'Baby'\n",
    "    elif df <= 12:\n",
    "        new_df = 'Child'\n",
    "    elif df <= 18:\n",
    "        new_df = 'Teen'\n",
    "    elif df <= 30:\n",
    "        new_df = 'Young_Adult'\n",
    "    elif df <= 55:\n",
    "        new_df = 'Middle_Aged'\n",
    "    elif df <= 200:\n",
    "        new_df = 'Elderly'\n",
    "    else:\n",
    "        new_df = 'Age_Unknown'\n",
    "        \n",
    "    return new_df"
   ]
  },
  {
   "cell_type": "code",
   "execution_count": 299,
   "metadata": {
    "collapsed": true
   },
   "outputs": [],
   "source": [
    "# Apply the function to the titanic_data, creating an 'Age_Band' column:\n",
    "\n",
    "titanic_data['Age_Band'] = titanic_data['Age'].apply(age_to_band)"
   ]
  },
  {
   "cell_type": "markdown",
   "metadata": {},
   "source": [
    "Now lets reconsider how the data groups, by age band:"
   ]
  },
  {
   "cell_type": "code",
   "execution_count": 300,
   "metadata": {
    "collapsed": false
   },
   "outputs": [
    {
     "data": {
      "text/plain": [
       "Age_Band\n",
       "Age_Unknown     52\n",
       "Baby            15\n",
       "Child           25\n",
       "Elderly         12\n",
       "Middle_Aged    112\n",
       "Teen            30\n",
       "Young_Adult     96\n",
       "Name: Survived, dtype: int64"
      ]
     },
     "execution_count": 300,
     "metadata": {},
     "output_type": "execute_result"
    }
   ],
   "source": [
    "titanic_data.groupby('Age_Band').sum()['Survived']"
   ]
  },
  {
   "cell_type": "code",
   "execution_count": 301,
   "metadata": {
    "collapsed": false
   },
   "outputs": [
    {
     "name": "stdout",
     "output_type": "stream",
     "text": [
      "Survival by Age:\n",
      "\n",
      "\n",
      "Total baby passengers: 24\n",
      "Surviving baby passengers: 15\n",
      "Baby Survival Rate (%): 62\n",
      "\n",
      "\n",
      "Total child passengers: 45\n",
      "Surviving child passengers: 25\n",
      "Child Survival Rate (%): 55\n",
      "\n",
      "\n",
      "Total teen passengers: 70\n",
      "Surviving teen passengers: 30\n",
      "Teen Survival Rate (%): 42\n",
      "\n",
      "\n",
      "Total young adult passengers: 270\n",
      "Surviving young adult passengers: 96\n",
      "Young adult Survival Rate (%): 35\n",
      "\n",
      "\n",
      "Total middle aged passengers: 265\n",
      "Surviving middle aged passengers: 112\n",
      "Middle aged Survival Rate (%): 42\n",
      "\n",
      "\n",
      "Total elderly passengers: 40\n",
      "Surviving elderly passengers: 12\n",
      "Elderly Survival Rate (%): 30\n"
     ]
    }
   ],
   "source": [
    "# Compute relative survival rates, by age band\n",
    "\n",
    "total_baby = titanic_data.groupby('Age_Band').count()['PassengerId']['Baby']\n",
    "survived_baby = titanic_data.groupby('Age_Band').sum()['Survived']['Baby']\n",
    "baby_survival = survived_baby * 100 / total_baby\n",
    "\n",
    "total_child = titanic_data.groupby('Age_Band').count()['PassengerId']['Child']\n",
    "survived_child = titanic_data.groupby('Age_Band').sum()['Survived']['Child']\n",
    "child_survival = survived_child * 100 / total_child\n",
    "\n",
    "total_teen = titanic_data.groupby('Age_Band').count()['PassengerId']['Teen']\n",
    "survived_teen = titanic_data.groupby('Age_Band').sum()['Survived']['Teen']\n",
    "teen_survival = survived_teen * 100 / total_teen\n",
    "\n",
    "total_young_adult = titanic_data.groupby('Age_Band').count()['PassengerId']['Young_Adult']\n",
    "survived_young_adult = titanic_data.groupby('Age_Band').sum()['Survived']['Young_Adult']\n",
    "young_adult_survival = survived_young_adult * 100 / total_young_adult\n",
    "\n",
    "total_middle_aged = titanic_data.groupby('Age_Band').count()['PassengerId']['Middle_Aged']\n",
    "survived_middle_aged = titanic_data.groupby('Age_Band').sum()['Survived']['Middle_Aged']\n",
    "middle_aged_survival = survived_middle_aged * 100 / total_middle_aged\n",
    "\n",
    "total_elderly = titanic_data.groupby('Age_Band').count()['PassengerId']['Elderly']\n",
    "survived_elderly = titanic_data.groupby('Age_Band').sum()['Survived']['Elderly']\n",
    "elderly_survival = survived_elderly * 100 / total_elderly\n",
    "\n",
    "\n",
    "print \"Survival by Age:\"\n",
    "print \"\\n\"\n",
    "print \"Total baby passengers: \" + str(total_baby)\n",
    "print \"Surviving baby passengers: \" + str(survived_baby)\n",
    "print \"Baby Survival Rate (%): \" + str(baby_survival)\n",
    "\n",
    "print \"\\n\"\n",
    "print \"Total child passengers: \" + str(total_child)\n",
    "print \"Surviving child passengers: \" + str(survived_child)\n",
    "print \"Child Survival Rate (%): \" + str(child_survival)\n",
    "\n",
    "print \"\\n\"\n",
    "print \"Total teen passengers: \" + str(total_teen)\n",
    "print \"Surviving teen passengers: \" + str(survived_teen)\n",
    "print \"Teen Survival Rate (%): \" + str(teen_survival)\n",
    "\n",
    "print \"\\n\"\n",
    "print \"Total young adult passengers: \" + str(total_young_adult)\n",
    "print \"Surviving young adult passengers: \" + str(survived_young_adult)\n",
    "print \"Young adult Survival Rate (%): \" + str(young_adult_survival)\n",
    "\n",
    "print \"\\n\"\n",
    "print \"Total middle aged passengers: \" + str(total_middle_aged)\n",
    "print \"Surviving middle aged passengers: \" + str(survived_middle_aged)\n",
    "print \"Middle aged Survival Rate (%): \" + str(middle_aged_survival)\n",
    "\n",
    "print \"\\n\"\n",
    "print \"Total elderly passengers: \" + str(total_elderly)\n",
    "print \"Surviving elderly passengers: \" + str(survived_elderly)\n",
    "print \"Elderly Survival Rate (%): \" + str(elderly_survival)"
   ]
  },
  {
   "cell_type": "markdown",
   "metadata": {},
   "source": [
    "I will summarize the key age / survival rate data in graphical form:"
   ]
  },
  {
   "cell_type": "code",
   "execution_count": 302,
   "metadata": {
    "collapsed": false
   },
   "outputs": [
    {
     "data": {
      "text/plain": [
       "<matplotlib.text.Text at 0x1230feb10>"
      ]
     },
     "execution_count": 302,
     "metadata": {},
     "output_type": "execute_result"
    },
    {
     "data": {
      "image/png": "[encoded data removed]",
      "text/plain": [
       "<matplotlib.figure.Figure at 0x12284a590>"
      ]
     },
     "metadata": {},
     "output_type": "display_data"
    }
   ],
   "source": [
    "import seaborn as sns\n",
    "\n",
    "survival_by_age_df = pd.DataFrame(\n",
    "    data={'survival rate': [baby_survival, child_survival, teen_survival, young_adult_survival, middle_aged_survival, \n",
    "                            elderly_survival]},\n",
    "    index=['Baby', 'Child', 'Teen', 'Young Adult', 'Middle Aged', 'Elderly'])\n",
    "\n",
    "survival_by_age_df.plot()\n",
    "plt.ylabel('Survival Rate (%)')\n",
    "plt.title('Survival Rate by Age Distribution')"
   ]
  },
  {
   "cell_type": "markdown",
   "metadata": {},
   "source": [
    "There certainly appears to be a decreasing survival rate with age, with the rate going from 62% for babies to 29% for the elderly. \n",
    "\n",
    "To quantify this apparent inverse relationship, I will calculate the age / survival correlation coefficient. At the same time, I will generate correlation coefficients between all quantifiable variables in the data, to make sure no other particularly interesting relationships exist. This correlation data is presented in the table below:"
   ]
  },
  {
   "cell_type": "code",
   "execution_count": 303,
   "metadata": {
    "collapsed": false
   },
   "outputs": [
    {
     "data": {
      "text/html": [
       "<div>\n",
       "<table border=\"1\" class=\"dataframe\">\n",
       "  <thead>\n",
       "    <tr style=\"text-align: right;\">\n",
       "      <th></th>\n",
       "      <th>PassengerId</th>\n",
       "      <th>Survived</th>\n",
       "      <th>Pclass</th>\n",
       "      <th>Age</th>\n",
       "      <th>SibSp</th>\n",
       "      <th>Parch</th>\n",
       "      <th>Fare</th>\n",
       "      <th>Gender</th>\n",
       "    </tr>\n",
       "  </thead>\n",
       "  <tbody>\n",
       "    <tr>\n",
       "      <th>PassengerId</th>\n",
       "      <td>1.000000</td>\n",
       "      <td>-0.005007</td>\n",
       "      <td>-0.035144</td>\n",
       "      <td>0.036847</td>\n",
       "      <td>-0.057527</td>\n",
       "      <td>-0.001652</td>\n",
       "      <td>0.012658</td>\n",
       "      <td>-0.042939</td>\n",
       "    </tr>\n",
       "    <tr>\n",
       "      <th>Survived</th>\n",
       "      <td>-0.005007</td>\n",
       "      <td>1.000000</td>\n",
       "      <td>-0.338481</td>\n",
       "      <td>-0.077221</td>\n",
       "      <td>-0.035322</td>\n",
       "      <td>0.081629</td>\n",
       "      <td>0.257307</td>\n",
       "      <td>0.543351</td>\n",
       "    </tr>\n",
       "    <tr>\n",
       "      <th>Pclass</th>\n",
       "      <td>-0.035144</td>\n",
       "      <td>-0.338481</td>\n",
       "      <td>1.000000</td>\n",
       "      <td>-0.369226</td>\n",
       "      <td>0.083081</td>\n",
       "      <td>0.018443</td>\n",
       "      <td>-0.549500</td>\n",
       "      <td>-0.131900</td>\n",
       "    </tr>\n",
       "    <tr>\n",
       "      <th>Age</th>\n",
       "      <td>0.036847</td>\n",
       "      <td>-0.077221</td>\n",
       "      <td>-0.369226</td>\n",
       "      <td>1.000000</td>\n",
       "      <td>-0.308247</td>\n",
       "      <td>-0.189119</td>\n",
       "      <td>0.096067</td>\n",
       "      <td>-0.093254</td>\n",
       "    </tr>\n",
       "    <tr>\n",
       "      <th>SibSp</th>\n",
       "      <td>-0.057527</td>\n",
       "      <td>-0.035322</td>\n",
       "      <td>0.083081</td>\n",
       "      <td>-0.308247</td>\n",
       "      <td>1.000000</td>\n",
       "      <td>0.414838</td>\n",
       "      <td>0.159651</td>\n",
       "      <td>0.114631</td>\n",
       "    </tr>\n",
       "    <tr>\n",
       "      <th>Parch</th>\n",
       "      <td>-0.001652</td>\n",
       "      <td>0.081629</td>\n",
       "      <td>0.018443</td>\n",
       "      <td>-0.189119</td>\n",
       "      <td>0.414838</td>\n",
       "      <td>1.000000</td>\n",
       "      <td>0.216225</td>\n",
       "      <td>0.245489</td>\n",
       "    </tr>\n",
       "    <tr>\n",
       "      <th>Fare</th>\n",
       "      <td>0.012658</td>\n",
       "      <td>0.257307</td>\n",
       "      <td>-0.549500</td>\n",
       "      <td>0.096067</td>\n",
       "      <td>0.159651</td>\n",
       "      <td>0.216225</td>\n",
       "      <td>1.000000</td>\n",
       "      <td>0.182333</td>\n",
       "    </tr>\n",
       "    <tr>\n",
       "      <th>Gender</th>\n",
       "      <td>-0.042939</td>\n",
       "      <td>0.543351</td>\n",
       "      <td>-0.131900</td>\n",
       "      <td>-0.093254</td>\n",
       "      <td>0.114631</td>\n",
       "      <td>0.245489</td>\n",
       "      <td>0.182333</td>\n",
       "      <td>1.000000</td>\n",
       "    </tr>\n",
       "  </tbody>\n",
       "</table>\n",
       "</div>"
      ],
      "text/plain": [
       "             PassengerId  Survived    Pclass       Age     SibSp     Parch  \\\n",
       "PassengerId     1.000000 -0.005007 -0.035144  0.036847 -0.057527 -0.001652   \n",
       "Survived       -0.005007  1.000000 -0.338481 -0.077221 -0.035322  0.081629   \n",
       "Pclass         -0.035144 -0.338481  1.000000 -0.369226  0.083081  0.018443   \n",
       "Age             0.036847 -0.077221 -0.369226  1.000000 -0.308247 -0.189119   \n",
       "SibSp          -0.057527 -0.035322  0.083081 -0.308247  1.000000  0.414838   \n",
       "Parch          -0.001652  0.081629  0.018443 -0.189119  0.414838  1.000000   \n",
       "Fare            0.012658  0.257307 -0.549500  0.096067  0.159651  0.216225   \n",
       "Gender         -0.042939  0.543351 -0.131900 -0.093254  0.114631  0.245489   \n",
       "\n",
       "                 Fare    Gender  \n",
       "PassengerId  0.012658 -0.042939  \n",
       "Survived     0.257307  0.543351  \n",
       "Pclass      -0.549500 -0.131900  \n",
       "Age          0.096067 -0.093254  \n",
       "SibSp        0.159651  0.114631  \n",
       "Parch        0.216225  0.245489  \n",
       "Fare         1.000000  0.182333  \n",
       "Gender       0.182333  1.000000  "
      ]
     },
     "execution_count": 303,
     "metadata": {},
     "output_type": "execute_result"
    }
   ],
   "source": [
    "titanic_data.corr()"
   ]
  },
  {
   "cell_type": "markdown",
   "metadata": {},
   "source": [
    "Therefore, there is a negative correlation between age and survival, as the data and graph suggested. However, the correlation is weak (-0.08), suggesting that the effect of age on survival is not as strong as that of gender and class, which had correlations of 0.54 and -0.34 respectively.\n",
    "\n",
    "Other than class and gender, the only other variable that appears to have a moderate correlation with survival is 'Fare'. However, given that fare is the price paid for the ticket, this is a proxy for class, so I will not explore it further. Thus, I believe I have considered the most interesting variable pair relationships.\n",
    "\n",
    "As a final exercise, I would like to address the relationship between multiplie variables and survival. In particular, since both class and gender were moderatley predictive of survival, I would like to consider what sort of predictive power a combination of these two variables might provide. For example, how does the survival rates of first class females compare to third class males (very favorably, one can guess, based on the analysis so far)?\n",
    "\n",
    "To address this question, I will begin by grouping across both gender and class:"
   ]
  },
  {
   "cell_type": "code",
   "execution_count": 304,
   "metadata": {
    "collapsed": false
   },
   "outputs": [
    {
     "data": {
      "text/plain": [
       "Sex     Class\n",
       "female  1st      91\n",
       "        2nd      70\n",
       "        3rd      72\n",
       "male    1st      45\n",
       "        2nd      17\n",
       "        3rd      47\n",
       "Name: Survived, dtype: int64"
      ]
     },
     "execution_count": 304,
     "metadata": {},
     "output_type": "execute_result"
    }
   ],
   "source": [
    "titanic_data.groupby(['Sex','Class']).sum()['Survived']"
   ]
  },
  {
   "cell_type": "markdown",
   "metadata": {},
   "source": [
    "Next, consider the relative survival rates, by normalizing for the total number of respective passenger type:"
   ]
  },
  {
   "cell_type": "code",
   "execution_count": 305,
   "metadata": {
    "collapsed": false
   },
   "outputs": [
    {
     "name": "stdout",
     "output_type": "stream",
     "text": [
      "Survival by Gender and Class:\n",
      "\n",
      "\n",
      "Total 1st class females: 94\n",
      "Surviving 1st class females: 91\n",
      "Female 1st class survival Rate (%): 96\n",
      "\n",
      "\n",
      "Total 2nd class females: 76\n",
      "Surviving 2nd class females: 70\n",
      "Female 2nd class survival Rate (%): 92\n",
      "\n",
      "\n",
      "Total 3rd class females: 144\n",
      "Surviving 3rd class females: 72\n",
      "Female 3rd class survival Rate (%): 50\n",
      "\n",
      "\n",
      "Total 1st class males: 122\n",
      "Surviving 1st class males: 45\n",
      "Male 1st class survival Rate (%): 36\n",
      "\n",
      "\n",
      "Total 2nd class males: 108\n",
      "Surviving 2nd class males: 17\n",
      "Male 2nd class survival Rate (%): 15\n",
      "\n",
      "\n",
      "Total 3rd class males: 347\n",
      "Surviving 3rd class males: 47\n",
      "Male 3rd class survival Rate (%): 13\n"
     ]
    }
   ],
   "source": [
    "# Compute relative survival rates, by gender and class\n",
    "\n",
    "total_female_first = titanic_data.groupby(['Sex','Class']).count()['PassengerId']['female']['1st']\n",
    "survived_female_first = titanic_data.groupby(['Sex','Class']).sum()['Survived']['female']['1st']\n",
    "female_first_survival = survived_female_first * 100 / total_female_first\n",
    "\n",
    "total_female_second = titanic_data.groupby(['Sex','Class']).count()['PassengerId']['female']['2nd']\n",
    "survived_female_second = titanic_data.groupby(['Sex','Class']).sum()['Survived']['female']['2nd']\n",
    "female_second_survival = survived_female_second * 100 / total_female_second\n",
    "\n",
    "total_female_third = titanic_data.groupby(['Sex','Class']).count()['PassengerId']['female']['3rd']\n",
    "survived_female_third = titanic_data.groupby(['Sex','Class']).sum()['Survived']['female']['3rd']\n",
    "female_third_survival = survived_female_third * 100 / total_female_third\n",
    "\n",
    "total_male_first = titanic_data.groupby(['Sex','Class']).count()['PassengerId']['male']['1st']\n",
    "survived_male_first = titanic_data.groupby(['Sex','Class']).sum()['Survived']['male']['1st']\n",
    "male_first_survival = survived_male_first * 100 / total_male_first\n",
    "\n",
    "total_male_second = titanic_data.groupby(['Sex','Class']).count()['PassengerId']['male']['2nd']\n",
    "survived_male_second = titanic_data.groupby(['Sex','Class']).sum()['Survived']['male']['2nd']\n",
    "male_second_survival = survived_male_second * 100 / total_male_second\n",
    "\n",
    "total_male_third = titanic_data.groupby(['Sex','Class']).count()['PassengerId']['male']['3rd']\n",
    "survived_male_third = titanic_data.groupby(['Sex','Class']).sum()['Survived']['male']['3rd']\n",
    "male_third_survival = survived_male_third * 100 / total_male_third\n",
    "\n",
    "print \"Survival by Gender and Class:\"\n",
    "print \"\\n\"\n",
    "print \"Total 1st class females: \" + str(total_female_first)\n",
    "print \"Surviving 1st class females: \" + str(survived_female_first)\n",
    "print \"Female 1st class survival Rate (%): \" + str(female_first_survival)\n",
    "\n",
    "print \"\\n\"\n",
    "print \"Total 2nd class females: \" + str(total_female_second)\n",
    "print \"Surviving 2nd class females: \" + str(survived_female_second)\n",
    "print \"Female 2nd class survival Rate (%): \" + str(female_second_survival)\n",
    "\n",
    "print \"\\n\"\n",
    "print \"Total 3rd class females: \" + str(total_female_third)\n",
    "print \"Surviving 3rd class females: \" + str(survived_female_third)\n",
    "print \"Female 3rd class survival Rate (%): \" + str(female_third_survival)\n",
    "\n",
    "print \"\\n\"\n",
    "print \"Total 1st class males: \" + str(total_male_first)\n",
    "print \"Surviving 1st class males: \" + str(survived_male_first)\n",
    "print \"Male 1st class survival Rate (%): \" + str(male_first_survival)\n",
    "\n",
    "print \"\\n\"\n",
    "print \"Total 2nd class males: \" + str(total_male_second)\n",
    "print \"Surviving 2nd class males: \" + str(survived_male_second)\n",
    "print \"Male 2nd class survival Rate (%): \" + str(male_second_survival)\n",
    "\n",
    "print \"\\n\"\n",
    "print \"Total 3rd class males: \" + str(total_male_third)\n",
    "print \"Surviving 3rd class males: \" + str(survived_male_third)\n",
    "print \"Male 3rd class survival Rate (%): \" + str(male_third_survival)"
   ]
  },
  {
   "cell_type": "markdown",
   "metadata": {},
   "source": [
    "Now summarize this data in bar chart form:"
   ]
  },
  {
   "cell_type": "code",
   "execution_count": 306,
   "metadata": {
    "collapsed": false
   },
   "outputs": [
    {
     "data": {
      "text/plain": [
       "<matplotlib.text.Text at 0x123290110>"
      ]
     },
     "execution_count": 306,
     "metadata": {},
     "output_type": "execute_result"
    },
    {
     "data": {
      "image/png": "[encoded data removed]",
      "text/plain": [
       "<matplotlib.figure.Figure at 0x120036bd0>"
      ]
     },
     "metadata": {},
     "output_type": "display_data"
    }
   ],
   "source": [
    "survival_by_gender_class_df = pd.DataFrame(\n",
    "    data={'survival rate': [female_first_survival, female_second_survival, female_third_survival, male_first_survival, \n",
    "                            male_second_survival, male_third_survival]},\n",
    "    index=['Female 1st', 'Female 2nd', 'Female 3rd', 'Male 1st', 'Male 2nd', 'Male 3rd'])\n",
    "\n",
    "survival_by_gender_class_df.plot(kind='bar')\n",
    "plt.ylabel('Survival Rate (%)')\n",
    "plt.title('Survival Rate by Gender and Class')"
   ]
  },
  {
   "cell_type": "markdown",
   "metadata": {},
   "source": [
    "The results shown in the graph are stark: Middle and upper class females had a strong chance of survival, with values approaching 100%, whereas middle and lower class males faced slim odds, with survival rates below 20%. "
   ]
  },
  {
   "cell_type": "markdown",
   "metadata": {},
   "source": [
    "Conclusion:\n",
    "    \n",
    "In this analysis, I considered the question of whether the chance of surviving the Titanic shipwreck disaster was related to the age, gender or social class of the passengers. The results were quite fascinating. There was a moderate correlation (0.54) between gender and survival, implying that women had a higher chance of surviving the disaster, and another moderate correlation (-0.34) between class and survival, implying a higher social class (using cabin class as a proxy) also increased the chance of survival. There also appears to be a slight correlation (-0.08) between age and survival, with youth enhancing the chance of survival. This effect looked more pronounced when the ages were split into various groups, with babies (as defined as those in the age range 0-2 years) surviving at a 62% rate compared to the elderly (those over 55 years) surviving at only a 29% rate. So it looks like the saying, \"women and children first!\", held strong during the Titanic disaster.\n",
    "\n",
    "The most pronounced results came when considering the combined effect of gender and class on survival rate. Here I found that upper and middle class females survived at rates of 96% and 92% respectively, a remarkable contrast to the 15% and 13% survival rate for middle and lower class males respectively.\n",
    "\n",
    "This data was truly illuminating to me, as the numbers demonstrated a powerful human story: They illustrated both the valiant side of human nature (men forgoing their own survival to aid women and children) and the darker side (social class being a major determinant of survival)."
   ]
  }
 ],
 "metadata": {
  "kernelspec": {
   "display_name": "Python 2",
   "language": "python",
   "name": "python2"
  },
  "language_info": {
   "codemirror_mode": {
    "name": "ipython",
    "version": 2
   },
   "file_extension": ".py",
   "mimetype": "text/x-python",
   "name": "python",
   "nbconvert_exporter": "python",
   "pygments_lexer": "ipython2",
   "version": "2.7.11"
  }
 },
 "nbformat": 4,
 "nbformat_minor": 0
}
